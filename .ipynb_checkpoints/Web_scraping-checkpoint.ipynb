{
 "cells": [
  {
   "cell_type": "code",
   "execution_count": 8,
   "metadata": {},
   "outputs": [],
   "source": [
    "import requests\n",
    "from bs4 import BeautifulSoup\n",
    "import pandas as pd"
   ]
  },
  {
   "cell_type": "markdown",
   "metadata": {},
   "source": [
    "## Request - requisição para acessar a página"
   ]
  },
  {
   "cell_type": "code",
   "execution_count": 50,
   "metadata": {},
   "outputs": [],
   "source": [
    "req = requests.get('https://statusinvest.com.br/acoes/suzb3')"
   ]
  },
  {
   "cell_type": "markdown",
   "metadata": {},
   "source": [
    "### Status code - retorna se a requisição foi bem sucedida\n",
    "### content - acessar o código da página em html"
   ]
  },
  {
   "cell_type": "code",
   "execution_count": 51,
   "metadata": {},
   "outputs": [
    {
     "name": "stdout",
     "output_type": "stream",
     "text": [
      "Requisição bem sucedida!\n"
     ]
    }
   ],
   "source": [
    "if req.status_code == 200:\n",
    "    print('Requisição bem sucedida!')\n",
    "    content = req.content"
   ]
  },
  {
   "cell_type": "markdown",
   "metadata": {},
   "source": [
    "### soup - objeto que contém elementos da página"
   ]
  },
  {
   "cell_type": "code",
   "execution_count": 52,
   "metadata": {},
   "outputs": [],
   "source": [
    "soup = BeautifulSoup(content, 'html.parser')"
   ]
  },
  {
   "cell_type": "markdown",
   "metadata": {},
   "source": [
    "### object - dado que eu quero obter da página"
   ]
  },
  {
   "cell_type": "code",
   "execution_count": 56,
   "metadata": {},
   "outputs": [],
   "source": [
    "table = soup.findAll(name='strong')"
   ]
  },
  {
   "cell_type": "markdown",
   "metadata": {},
   "source": [
    "### Obtendo alguns dados do site (teste)"
   ]
  },
  {
   "cell_type": "code",
   "execution_count": 58,
   "metadata": {},
   "outputs": [
    {
     "data": {
      "text/plain": [
       "[<strong class=\"value\">39,04</strong>,\n",
       " <strong class=\"value\">28,00</strong>,\n",
       " <strong class=\"value\">49,75</strong>,\n",
       " <strong class=\"value\">2,28</strong>,\n",
       " <strong class=\"value\">8,78%</strong>,\n",
       " <strong class=\"value\">ON</strong>,\n",
       " <strong class=\"fw-700\">IBOV</strong>,\n",
       " <strong class=\"value\">1,431</strong>,\n",
       " <strong class=\"fw-700\">OPÇÕES</strong>,\n",
       " <strong class=\"value mr-1\">190</strong>,\n",
       " <strong class=\"value\">3,12</strong>,\n",
       " <strong class=\"value\">-</strong>,\n",
       " <strong class=\"value\">-</strong>,\n",
       " <strong class=\"value\">17,51</strong>,\n",
       " <strong class=\"value\">0,53</strong>,\n",
       " <strong class=\"value\">-</strong>,\n",
       " <strong class=\"value\">36,67</strong>,\n",
       " <strong class=\"value\">2,39</strong>,\n",
       " <strong class=\"value\">6,95</strong>,\n",
       " <strong class=\"value\">6,95</strong>,\n",
       " <strong class=\"value\">25,09%</strong>,\n",
       " <strong class=\"value\">-%</strong>,\n",
       " <strong class=\"value\">13,67%</strong>,\n",
       " <strong class=\"value\">-11,39%</strong>,\n",
       " <strong class=\"value\">0,22</strong>,\n",
       " <strong class=\"value\">-14,84%</strong>,\n",
       " <strong class=\"value\">-0,03%</strong>,\n",
       " <strong class=\"value\">-%</strong>,\n",
       " <strong class=\"value\">-1,86</strong>,\n",
       " <strong class=\"value\">12,52</strong>,\n",
       " <strong class=\"value\">3,48</strong>,\n",
       " <strong class=\"value\">-</strong>,\n",
       " <strong class=\"value\">19,57</strong>,\n",
       " <strong class=\"value\">0,17</strong>,\n",
       " <strong class=\"value\">0,83</strong>,\n",
       " <strong class=\"value\">1,68</strong>,\n",
       " <strong class=\"value\">13,09 %</strong>,\n",
       " <strong class=\"value\">- %</strong>,\n",
       " <strong class=\"fw-900 d-xs-block d-sm-inline-block\">09/12/2019</strong>,\n",
       " <strong class=\"m-md-0 mb-md-1 value\">0,27</strong>,\n",
       " <strong class=\"m-md-0 mb-md-1 value\">0,18</strong>,\n",
       " <strong class=\"m-md-0 mb-md-1 value\">2.989.170</strong>,\n",
       " <strong class=\"value mb-0 mb-md-1 mt-0 mt-md-1\">114.664.561</strong>,\n",
       " <strong class=\"value\">0,1922</strong>,\n",
       " <strong class=\"value\">0,8894</strong>,\n",
       " <strong class=\"value v-align-middle\">362,75%</strong>,\n",
       " <strong class=\"value\">0,0000</strong>,\n",
       " <strong class=\"value v-align-middle\">362,75%</strong>,\n",
       " <strong class=\"value\">17.036.259.000</strong>,\n",
       " <strong class=\"value\">99.347.076.000</strong>,\n",
       " <strong class=\"value\">18.821.378.000</strong>,\n",
       " <strong class=\"value\">67.967.017.000</strong>,\n",
       " <strong class=\"value\">8.612.231.000</strong>,\n",
       " <strong class=\"value\">59.354.786.000</strong>,\n",
       " <strong class=\"value\">51.850.529.915</strong>,\n",
       " <strong class=\"value\">111.205.315.915</strong>,\n",
       " <strong class=\"value\">1.361.263.584</strong>,\n",
       " <strong class=\"value\">Materiais Básicos</strong>,\n",
       " <strong class=\"value\">Madeira e Papel</strong>,\n",
       " <strong class=\"value\">Papel e Celulose</strong>,\n",
       " <strong class=\"d-block lh-3\">Índice de Materiais Básicos</strong>,\n",
       " <strong class=\"d-block fs-4 fw-700\">644.768.324</strong>,\n",
       " <strong class=\"d-block fs-4 fw-900\">21,346%</strong>,\n",
       " <strong class=\"d-block lh-3\">Índice do Setor Industrial</strong>,\n",
       " <strong class=\"d-block fs-4 fw-700\">725.859.318</strong>,\n",
       " <strong class=\"d-block fs-4 fw-900\">8,139%</strong>,\n",
       " <strong class=\"d-block lh-3\">Índice Carbono Eficiente</strong>,\n",
       " <strong class=\"d-block fs-4 fw-700\">725.859.318</strong>,\n",
       " <strong class=\"d-block fs-4 fw-900\">2,344%</strong>,\n",
       " <strong class=\"d-block lh-3\">Índice de Governança Corporativa – Novo Mercado</strong>,\n",
       " <strong class=\"d-block fs-4 fw-700\">725.859.318</strong>,\n",
       " <strong class=\"d-block fs-4 fw-900\">2,340%</strong>,\n",
       " <strong class=\"d-block lh-3\">Índice Brasil 50</strong>,\n",
       " <strong class=\"d-block fs-4 fw-700\">725.859.318</strong>,\n",
       " <strong class=\"d-block fs-4 fw-900\">1,583%</strong>,\n",
       " <strong class=\"d-block lh-3\">Índice de Ações com Governança Corporativa Diferenciada</strong>,\n",
       " <strong class=\"d-block fs-4 fw-700\">1.451.718.636</strong>,\n",
       " <strong class=\"d-block fs-4 fw-900\">1,579%</strong>,\n",
       " <strong class=\"d-block lh-3\">Ibovespa</strong>,\n",
       " <strong class=\"d-block fs-4 fw-700\">725.859.318</strong>,\n",
       " <strong class=\"d-block fs-4 fw-900\">1,431%</strong>,\n",
       " <strong class=\"d-block lh-3\">Índice MidLarge Cap</strong>,\n",
       " <strong class=\"d-block fs-4 fw-700\">725.859.318</strong>,\n",
       " <strong class=\"d-block fs-4 fw-900\">1,426%</strong>,\n",
       " <strong class=\"d-block lh-3\">Índice de Ações com Tag Along Diferenciado</strong>,\n",
       " <strong class=\"d-block fs-4 fw-700\">725.859.318</strong>,\n",
       " <strong class=\"d-block fs-4 fw-900\">1,351%</strong>,\n",
       " <strong class=\"d-block lh-3\">Índice de Governança Corporativa Trade</strong>,\n",
       " <strong class=\"d-block fs-4 fw-700\">725.859.318</strong>,\n",
       " <strong class=\"d-block fs-4 fw-900\">1,326%</strong>,\n",
       " <strong class=\"d-block lh-3\">Índice Brasil 100</strong>,\n",
       " <strong class=\"d-block fs-4 fw-700\">725.859.318</strong>,\n",
       " <strong class=\"d-block fs-4 fw-900\">1,315%</strong>,\n",
       " <strong class=\"d-block lh-3\">Índice Brasil Amplo</strong>,\n",
       " <strong class=\"d-block fs-4 fw-700\">725.859.318</strong>,\n",
       " <strong class=\"d-block fs-4 fw-900\">1,247%</strong>]"
      ]
     },
     "execution_count": 58,
     "metadata": {},
     "output_type": "execute_result"
    }
   ],
   "source": [
    "table"
   ]
  },
  {
   "cell_type": "markdown",
   "metadata": {},
   "source": [
    "### Obtendo tabela de dividendos (única do site)"
   ]
  },
  {
   "cell_type": "code",
   "execution_count": 60,
   "metadata": {},
   "outputs": [],
   "source": [
    "table = soup.find(name='table')"
   ]
  },
  {
   "cell_type": "markdown",
   "metadata": {},
   "source": [
    "### Transformando a váriavel table em string, pois ela era um obj BS\n",
    "### Utilizando método do pandas read_html, para ler o html"
   ]
  },
  {
   "cell_type": "code",
   "execution_count": 61,
   "metadata": {},
   "outputs": [],
   "source": [
    "table_str = str(table)\n",
    "df = pd.read_html(table_str)[0]"
   ]
  },
  {
   "cell_type": "markdown",
   "metadata": {},
   "source": [
    "### Histórico de dividendos da Suzano"
   ]
  },
  {
   "cell_type": "code",
   "execution_count": 62,
   "metadata": {},
   "outputs": [
    {
     "data": {
      "text/html": [
       "<div>\n",
       "<style scoped>\n",
       "    .dataframe tbody tr th:only-of-type {\n",
       "        vertical-align: middle;\n",
       "    }\n",
       "\n",
       "    .dataframe tbody tr th {\n",
       "        vertical-align: top;\n",
       "    }\n",
       "\n",
       "    .dataframe thead th {\n",
       "        text-align: right;\n",
       "    }\n",
       "</style>\n",
       "<table border=\"1\" class=\"dataframe\">\n",
       "  <thead>\n",
       "    <tr style=\"text-align: right;\">\n",
       "      <th></th>\n",
       "      <th>Tipo</th>\n",
       "      <th>Data com</th>\n",
       "      <th>Pagamento</th>\n",
       "      <th>Valor</th>\n",
       "    </tr>\n",
       "  </thead>\n",
       "  <tbody>\n",
       "    <tr>\n",
       "      <td>0</td>\n",
       "      <td>Dividendo</td>\n",
       "      <td>19/04/2019</td>\n",
       "      <td>30/04/2019</td>\n",
       "      <td>44470086</td>\n",
       "    </tr>\n",
       "    <tr>\n",
       "      <td>1</td>\n",
       "      <td>Dividendo</td>\n",
       "      <td>18/04/2019</td>\n",
       "      <td>30/04/2019</td>\n",
       "      <td>44470000</td>\n",
       "    </tr>\n",
       "    <tr>\n",
       "      <td>2</td>\n",
       "      <td>Dividendo</td>\n",
       "      <td>26/04/2018</td>\n",
       "      <td>09/05/2018</td>\n",
       "      <td>19220000</td>\n",
       "    </tr>\n",
       "    <tr>\n",
       "      <td>3</td>\n",
       "      <td>Jcp</td>\n",
       "      <td>29/11/2017</td>\n",
       "      <td>11/12/2017</td>\n",
       "      <td>18300000</td>\n",
       "    </tr>\n",
       "    <tr>\n",
       "      <td>4</td>\n",
       "      <td>Dividendo</td>\n",
       "      <td>25/04/2016</td>\n",
       "      <td>04/05/2016</td>\n",
       "      <td>25800000</td>\n",
       "    </tr>\n",
       "    <tr>\n",
       "      <td>5</td>\n",
       "      <td>Dividendo</td>\n",
       "      <td>12/11/2015</td>\n",
       "      <td>24/11/2015</td>\n",
       "      <td>10337069</td>\n",
       "    </tr>\n",
       "    <tr>\n",
       "      <td>6</td>\n",
       "      <td>Dividendo</td>\n",
       "      <td>01/05/2015</td>\n",
       "      <td>11/05/2015</td>\n",
       "      <td>12922000</td>\n",
       "    </tr>\n",
       "    <tr>\n",
       "      <td>7</td>\n",
       "      <td>Dividendo</td>\n",
       "      <td>01/05/2014</td>\n",
       "      <td>12/05/2014</td>\n",
       "      <td>10545000</td>\n",
       "    </tr>\n",
       "    <tr>\n",
       "      <td>8</td>\n",
       "      <td>Dividendo</td>\n",
       "      <td>30/04/2014</td>\n",
       "      <td>12/05/2014</td>\n",
       "      <td>10550000</td>\n",
       "    </tr>\n",
       "    <tr>\n",
       "      <td>9</td>\n",
       "      <td>Dividendo</td>\n",
       "      <td>01/05/2013</td>\n",
       "      <td>10/05/2013</td>\n",
       "      <td>8611000</td>\n",
       "    </tr>\n",
       "    <tr>\n",
       "      <td>10</td>\n",
       "      <td>Dividendo</td>\n",
       "      <td>30/04/2013</td>\n",
       "      <td>10/05/2013</td>\n",
       "      <td>8660000</td>\n",
       "    </tr>\n",
       "    <tr>\n",
       "      <td>11</td>\n",
       "      <td>Jcp</td>\n",
       "      <td>22/12/2011</td>\n",
       "      <td>15/03/2012</td>\n",
       "      <td>22620000</td>\n",
       "    </tr>\n",
       "  </tbody>\n",
       "</table>\n",
       "</div>"
      ],
      "text/plain": [
       "         Tipo    Data com   Pagamento     Valor\n",
       "0   Dividendo  19/04/2019  30/04/2019  44470086\n",
       "1   Dividendo  18/04/2019  30/04/2019  44470000\n",
       "2   Dividendo  26/04/2018  09/05/2018  19220000\n",
       "3         Jcp  29/11/2017  11/12/2017  18300000\n",
       "4   Dividendo  25/04/2016  04/05/2016  25800000\n",
       "5   Dividendo  12/11/2015  24/11/2015  10337069\n",
       "6   Dividendo  01/05/2015  11/05/2015  12922000\n",
       "7   Dividendo  01/05/2014  12/05/2014  10545000\n",
       "8   Dividendo  30/04/2014  12/05/2014  10550000\n",
       "9   Dividendo  01/05/2013  10/05/2013   8611000\n",
       "10  Dividendo  30/04/2013  10/05/2013   8660000\n",
       "11        Jcp  22/12/2011  15/03/2012  22620000"
      ]
     },
     "execution_count": 62,
     "metadata": {},
     "output_type": "execute_result"
    }
   ],
   "source": [
    "df"
   ]
  },
  {
   "cell_type": "code",
   "execution_count": null,
   "metadata": {},
   "outputs": [],
   "source": []
  }
 ],
 "metadata": {
  "kernelspec": {
   "display_name": "Python 3",
   "language": "python",
   "name": "python3"
  },
  "language_info": {
   "codemirror_mode": {
    "name": "ipython",
    "version": 3
   },
   "file_extension": ".py",
   "mimetype": "text/x-python",
   "name": "python",
   "nbconvert_exporter": "python",
   "pygments_lexer": "ipython3",
   "version": "3.7.4"
  }
 },
 "nbformat": 4,
 "nbformat_minor": 2
}
